{
 "cells": [
  {
   "cell_type": "code",
   "execution_count": null,
   "metadata": {},
   "outputs": [],
   "source": [
    "\n",
    "import numpy as np\n",
    "\n",
    "from utils.analytical_hamiltonian import HamiltonianSystem\n",
    "from set_variables import *\n",
    "from numerical_tests.variance_optimization import get_variances_mirk4_rk4_std\n",
    "from utils.plotting import plot_variances_mirk4_rk4"
   ]
  },
  {
   "cell_type": "code",
   "execution_count": null,
   "metadata": {},
   "outputs": [],
   "source": [
    "n_mc_samples = 10_000\n",
    "n_runs = 10\n",
    "dts = np.linspace(0.1,0.8,num=7)\n",
    "save = False\n",
    "\n",
    "hamiltonian_system = HamiltonianSystem(hamiltonian_double_pendulum)\n",
    "hamiltonian_name = \"Double pendulum\""
   ]
  },
  {
   "cell_type": "code",
   "execution_count": null,
   "metadata": {},
   "outputs": [],
   "source": [
    "m4_os_mcs,m4_mii_mcs,rk4_os_mcs = get_variances_mirk4_rk4_std(hamiltonian_system,n_runs,sigma,dts,args,n_mc_samples)\n",
    "plot_variances_mirk4_rk4(hamiltonian_name,dts,args,m4_os_mcs,m4_mii_mcs,rk4_os_mcs,save = save)"
   ]
  }
 ],
 "metadata": {
  "kernelspec": {
   "display_name": "torch",
   "language": "python",
   "name": "python3"
  },
  "language_info": {
   "codemirror_mode": {
    "name": "ipython",
    "version": 3
   },
   "file_extension": ".py",
   "mimetype": "text/x-python",
   "name": "python",
   "nbconvert_exporter": "python",
   "pygments_lexer": "ipython3",
   "version": "3.8.15"
  },
  "orig_nbformat": 4,
  "vscode": {
   "interpreter": {
    "hash": "e6321305a2b89b9d0be16b640ab097f16877291c7bbb5fba9448c090c23d9290"
   }
  }
 },
 "nbformat": 4,
 "nbformat_minor": 2
}
