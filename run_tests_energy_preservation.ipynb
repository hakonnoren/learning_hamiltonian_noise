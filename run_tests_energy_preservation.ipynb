{
 "cells": [
  {
   "cell_type": "code",
   "execution_count": 3,
   "metadata": {},
   "outputs": [],
   "source": [
    "from numerical_tests.energy_preservation import *\n",
    "from utils.plotting import plot_energy_error,plot_global_error\n",
    "import numpy as np"
   ]
  },
  {
   "cell_type": "code",
   "execution_count": 4,
   "metadata": {},
   "outputs": [],
   "source": [
    "N=1000\n",
    "T=500\n",
    "\n",
    "save = True\n",
    "\n",
    "dt = T/N\n",
    "x0 = np.array([0.1,0.3,-0.4,0.2], np.float64)\n",
    "xsref = get_ref_solution(f,rk4,x0,N,T)\n",
    "ts = np.linspace(0,T,N+1, np.float64)\n",
    "\n",
    "errors_rk4,energies_rk4 = get_errors_rk4(dt,x0,N,xsref)\n",
    "errors_mirk4,energies_mirk4 = get_errors_mirk4(dt,x0,N,xsref)\n",
    "errors_mimp4,energies_mimp4 = get_errors_mimp4(dt,x0,N,xsref)\n",
    "errors_dgm4,energies_dgm4 = get_errors_dgm4(dt,x0,N,xsref)\n",
    "\n",
    "plot_global_error(ts,errors_rk4,errors_mirk4,errors_dgm4,errors_mimp4,save)\n",
    "plot_energy_error(ts,energies_rk4,energies_mirk4,energies_dgm4,energies_mimp4,save)"
   ]
  }
 ],
 "metadata": {
  "kernelspec": {
   "display_name": "torch",
   "language": "python",
   "name": "python3"
  },
  "language_info": {
   "codemirror_mode": {
    "name": "ipython",
    "version": 3
   },
   "file_extension": ".py",
   "mimetype": "text/x-python",
   "name": "python",
   "nbconvert_exporter": "python",
   "pygments_lexer": "ipython3",
   "version": "3.8.15"
  },
  "orig_nbformat": 4,
  "vscode": {
   "interpreter": {
    "hash": "e6321305a2b89b9d0be16b640ab097f16877291c7bbb5fba9448c090c23d9290"
   }
  }
 },
 "nbformat": 4,
 "nbformat_minor": 2
}
