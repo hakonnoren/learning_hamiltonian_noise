{
 "cells": [
  {
   "cell_type": "code",
   "execution_count": null,
   "metadata": {},
   "outputs": [],
   "source": [
    "from numerical_tests.flow_error import experiment_flow_error\n",
    "from utils.plotting import plot_error_bars\n",
    "from set_variables import *"
   ]
  },
  {
   "cell_type": "code",
   "execution_count": null,
   "metadata": {},
   "outputs": [],
   "source": [
    "test_dicts = [test_dict_fput,test_dict_hh,test_dict_dp]\n",
    "measurements = []\n",
    "plot_roll_out_time = True\n",
    "save = False\n",
    "\n",
    "for test_dict in test_dicts:\n",
    "    if test_dict['system_name'] in ['Hénon-Heiles',\"FPUT\"]:\n",
    "        args.sep = True\n",
    "    else:\n",
    "        args.sep = False\n",
    "    measurments = experiment_flow_error(args,\"mii\",test_dict,n_samples=n_samples,plot=plot_roll_out_time)\n",
    "    measurements.append(measurments)"
   ]
  },
  {
   "cell_type": "code",
   "execution_count": null,
   "metadata": {},
   "outputs": [],
   "source": [
    "plot_error_bars(measurements,test_dicts,args,save=save)"
   ]
  }
 ],
 "metadata": {
  "kernelspec": {
   "display_name": "torch",
   "language": "python",
   "name": "python3"
  },
  "language_info": {
   "codemirror_mode": {
    "name": "ipython",
    "version": 3
   },
   "file_extension": ".py",
   "mimetype": "text/x-python",
   "name": "python",
   "nbconvert_exporter": "python",
   "pygments_lexer": "ipython3",
   "version": "3.8.15"
  },
  "orig_nbformat": 4,
  "vscode": {
   "interpreter": {
    "hash": "e6321305a2b89b9d0be16b640ab097f16877291c7bbb5fba9448c090c23d9290"
   }
  }
 },
 "nbformat": 4,
 "nbformat_minor": 2
}
